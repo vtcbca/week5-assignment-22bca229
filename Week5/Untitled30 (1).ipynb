{
 "cells": [
  {
   "cell_type": "code",
   "execution_count": 1,
   "id": "46c4741d",
   "metadata": {},
   "outputs": [],
   "source": [
    "import csv\n"
   ]
  },
  {
   "cell_type": "code",
   "execution_count": 2,
   "id": "88af05b1",
   "metadata": {},
   "outputs": [],
   "source": [
    "s=['sid','sname','city','contact']\n"
   ]
  },
  {
   "cell_type": "code",
   "execution_count": 3,
   "id": "d9250b86",
   "metadata": {},
   "outputs": [],
   "source": [
    "records=[[1,'rudra','chalthan',7632590102],\n",
    "         [2,'veer','bardoli',9722955429],\n",
    "         [3,'niraj','surat',9026763218],\n",
    "         [4,'dhruv','bharuch',5656521478],\n",
    "         [5,'viraj','surat',693006761]]\n",
    "p=[]"
   ]
  },
  {
   "cell_type": "code",
   "execution_count": 4,
   "id": "1d50bb53",
   "metadata": {},
   "outputs": [
    {
     "name": "stdout",
     "output_type": "stream",
     "text": [
      "enter student id:6\n",
      "enter student name:farhan\n",
      "enter student city:surat\n",
      "enter student contact number:7046732145\n",
      "enter student id:7\n",
      "enter student name:rehan\n",
      "enter student city:kamrej\n",
      "enter student contact number:9635214785\n",
      "enter student id:8\n",
      "enter student name:tarun\n",
      "enter student city:surat\n",
      "enter student contact number:65978741236\n",
      "enter student id:9\n",
      "enter student name:milen\n",
      "enter student city:vyara\n",
      "enter student contact number:9865321478\n",
      "enter student id:10\n",
      "enter student name:huzefa\n",
      "enter student city:baroda\n",
      "enter student contact number:6325147896\n"
     ]
    }
   ],
   "source": [
    "for i in range(5):\n",
    "    sid=int(input(\"enter student id:\"))\n",
    "    sname=input(\"enter student name:\")\n",
    "    city=input(\"enter student city:\")\n",
    "    contact=int(input(\"enter student contact number:\"))\n",
    "    l=[sid,sname,city,contact]\n",
    "    p.append(l)"
   ]
  },
  {
   "cell_type": "code",
   "execution_count": 5,
   "id": "01ef7a77",
   "metadata": {},
   "outputs": [],
   "source": [
    "with open('C:\\sqlite3\\student.csv','w',newline='') as f:\n",
    "    file=csv.writer(f)\n",
    "    file.writerow(s)\n",
    "    file.writerows(records)\n",
    "    file.writerows(p)"
   ]
  },
  {
   "cell_type": "code",
   "execution_count": 6,
   "id": "9c10d8ad",
   "metadata": {},
   "outputs": [
    {
     "name": "stdout",
     "output_type": "stream",
     "text": [
      "['sid', 'sname', 'city', 'contact']\n",
      "['1', 'rudra', 'chalthan', '7632590102']\n",
      "['2', 'veer', 'bardoli', '9722955429']\n",
      "['3', 'niraj', 'surat', '9026763218']\n",
      "['4', 'dhruv', 'bharuch', '5656521478']\n",
      "['5', 'viraj', 'surat', '693006761']\n",
      "['6', 'farhan', 'surat', '7046732145']\n",
      "['7', 'rehan', 'kamrej', '9635214785']\n",
      "['8', 'tarun', 'surat', '65978741236']\n",
      "['9', 'milen', 'vyara', '9865321478']\n",
      "['10', 'huzefa', 'baroda', '6325147896']\n"
     ]
    }
   ],
   "source": [
    "with open('C:\\sqlite3\\student.csv','r',newline='') as read:\n",
    "    all_record=csv.reader(read)\n",
    "    for records in all_record:\n",
    "        print(records)"
   ]
  },
  {
   "cell_type": "code",
   "execution_count": null,
   "id": "e9bdbf84",
   "metadata": {},
   "outputs": [],
   "source": []
  }
 ],
 "metadata": {
  "kernelspec": {
   "display_name": "Python 3 (ipykernel)",
   "language": "python",
   "name": "python3"
  },
  "language_info": {
   "codemirror_mode": {
    "name": "ipython",
    "version": 3
   },
   "file_extension": ".py",
   "mimetype": "text/x-python",
   "name": "python",
   "nbconvert_exporter": "python",
   "pygments_lexer": "ipython3",
   "version": "3.9.6"
  }
 },
 "nbformat": 4,
 "nbformat_minor": 5
}
